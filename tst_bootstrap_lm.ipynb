{
 "cells": [
  {
   "cell_type": "code",
   "execution_count": null,
   "metadata": {},
   "outputs": [],
   "source": [
    "# Mock data for linear regression. Use 10 predictive vars and an intercept and generate 1000 samples.\n",
    "import numpy as np\n",
    "import pandas as pd\n",
    "\n",
    "np.random.seed(0)\n",
    "n = 1000\n",
    "p = 10\n",
    "X = np.random.randn(n, p)\n",
    "beta = np.random.randn(p)\n",
    "y = np.dot(X, beta) + 3 + np.random.randn(n)\n",
    "\n",
    "df = pd.DataFrame(X, columns=[f'x{i}' for i in range(p)])\n",
    "df['y'] = y"
   ]
  },
  {
   "cell_type": "code",
   "execution_count": null,
   "metadata": {},
   "outputs": [
    {
     "name": "stdout",
     "output_type": "stream",
     "text": [
      "                            OLS Regression Results                            \n",
      "==============================================================================\n",
      "Dep. Variable:                      y   R-squared:                       0.885\n",
      "Model:                            OLS   Adj. R-squared:                  0.883\n",
      "Method:                 Least Squares   F-statistic:                     758.1\n",
      "Date:                Mon, 18 Nov 2024   Prob (F-statistic):               0.00\n",
      "Time:                        15:01:05   Log-Likelihood:                -1414.6\n",
      "No. Observations:                1000   AIC:                             2851.\n",
      "Df Residuals:                     989   BIC:                             2905.\n",
      "Df Model:                          10                                         \n",
      "Covariance Type:            nonrobust                                         \n",
      "==============================================================================\n",
      "                 coef    std err          t      P>|t|      [0.025      0.975]\n",
      "------------------------------------------------------------------------------\n",
      "const          3.0536      0.032     95.727      0.000       2.991       3.116\n",
      "x1            -0.1610      0.031     -5.157      0.000      -0.222      -0.100\n",
      "x2            -0.8850      0.032    -27.382      0.000      -0.948      -0.822\n",
      "x3             1.6842      0.032     53.048      0.000       1.622       1.746\n",
      "x4             0.1760      0.033      5.379      0.000       0.112       0.240\n",
      "x5            -0.1563      0.032     -4.872      0.000      -0.219      -0.093\n",
      "x6            -1.0868      0.032    -33.833      0.000      -1.150      -1.024\n",
      "x7             0.9777      0.034     29.058      0.000       0.912       1.044\n",
      "x8             1.4421      0.032     45.654      0.000       1.380       1.504\n",
      "x9            -0.2165      0.032     -6.844      0.000      -0.279      -0.154\n",
      "x10           -0.6025      0.033    -18.139      0.000      -0.668      -0.537\n",
      "==============================================================================\n",
      "Omnibus:                        1.586   Durbin-Watson:                   1.904\n",
      "Prob(Omnibus):                  0.453   Jarque-Bera (JB):                1.538\n",
      "Skew:                           0.096   Prob(JB):                        0.463\n",
      "Kurtosis:                       3.013   Cond. No.                         1.20\n",
      "==============================================================================\n",
      "\n",
      "Notes:\n",
      "[1] Standard Errors assume that the covariance matrix of the errors is correctly specified.\n"
     ]
    }
   ],
   "source": [
    "# OLS model\n",
    "import statsmodels.api as sm\n",
    "X = sm.add_constant(X)\n",
    "model = sm.OLS(y, X).fit()\n",
    "print(model.summary())"
   ]
  },
  {
   "cell_type": "code",
   "execution_count": null,
   "metadata": {},
   "outputs": [],
   "source": [
    "# Random sample just 40 rows\n",
    "sampled_df = df.sample(40)"
   ]
  },
  {
   "cell_type": "code",
   "execution_count": null,
   "metadata": {},
   "outputs": [
    {
     "name": "stdout",
     "output_type": "stream",
     "text": [
      "                            OLS Regression Results                            \n",
      "==============================================================================\n",
      "Dep. Variable:                      y   R-squared:                       0.913\n",
      "Model:                            OLS   Adj. R-squared:                  0.882\n",
      "Method:                 Least Squares   F-statistic:                     30.28\n",
      "Date:                Mon, 18 Nov 2024   Prob (F-statistic):           1.10e-12\n",
      "Time:                        15:03:39   Log-Likelihood:                -43.938\n",
      "No. Observations:                  40   AIC:                             109.9\n",
      "Df Residuals:                      29   BIC:                             128.5\n",
      "Df Model:                          10                                         \n",
      "Covariance Type:            nonrobust                                         \n",
      "==============================================================================\n",
      "                 coef    std err          t      P>|t|      [0.025      0.975]\n",
      "------------------------------------------------------------------------------\n",
      "const          2.9145      0.160     18.164      0.000       2.586       3.243\n",
      "x0             0.0205      0.163      0.126      0.901      -0.313       0.354\n",
      "x1            -1.0164      0.161     -6.314      0.000      -1.346      -0.687\n",
      "x2             1.6887      0.196      8.601      0.000       1.287       2.090\n",
      "x3            -0.0799      0.174     -0.460      0.649      -0.435       0.275\n",
      "x4            -0.2998      0.171     -1.758      0.089      -0.649       0.049\n",
      "x5            -1.3091      0.180     -7.268      0.000      -1.677      -0.941\n",
      "x6             0.9395      0.138      6.806      0.000       0.657       1.222\n",
      "x7             1.2582      0.166      7.572      0.000       0.918       1.598\n",
      "x8             0.0736      0.164      0.450      0.656      -0.261       0.408\n",
      "x9            -0.6399      0.157     -4.078      0.000      -0.961      -0.319\n",
      "==============================================================================\n",
      "Omnibus:                        9.033   Durbin-Watson:                   2.363\n",
      "Prob(Omnibus):                  0.011   Jarque-Bera (JB):                8.033\n",
      "Skew:                           0.919   Prob(JB):                       0.0180\n",
      "Kurtosis:                       4.201   Cond. No.                         2.59\n",
      "==============================================================================\n",
      "\n",
      "Notes:\n",
      "[1] Standard Errors assume that the covariance matrix of the errors is correctly specified.\n"
     ]
    }
   ],
   "source": [
    "# Fit OLS for sampled_df\n",
    "X_sampled = sm.add_constant(sampled_df.drop(columns='y'))\n",
    "model_sampled = sm.OLS(sampled_df['y'], X_sampled).fit()\n",
    "print(model_sampled.summary())"
   ]
  },
  {
   "cell_type": "code",
   "execution_count": null,
   "metadata": {},
   "outputs": [],
   "source": [
    "# Function to generate bootstraped dfs from sampled_df\n",
    "def bootstrap(df, n):\n",
    "    return [df.sample(len(df), replace=True) for _ in range(n)]"
   ]
  },
  {
   "cell_type": "code",
   "execution_count": null,
   "metadata": {},
   "outputs": [
    {
     "data": {
      "text/plain": [
       "Index(['x0', 'x1', 'x2', 'x3', 'x4', 'x5', 'x6', 'x7', 'x8', 'x9'], dtype='object')"
      ]
     },
     "execution_count": 16,
     "metadata": {},
     "output_type": "execute_result"
    }
   ],
   "source": [
    "list(sampled_df.drop(columns=['y']).columns)"
   ]
  },
  {
   "cell_type": "code",
   "execution_count": null,
   "metadata": {},
   "outputs": [
    {
     "name": "stdout",
     "output_type": "stream",
     "text": [
      "intercept: 1.0\n",
      "x0: 0.57\n",
      "x1: 0.0\n",
      "x2: 1.0\n",
      "x3: 0.41\n",
      "x4: 0.088\n",
      "x5: 0.0\n",
      "x6: 1.0\n",
      "x7: 1.0\n",
      "x8: 0.757\n",
      "x9: 0.001\n",
      "intercept: 2.9323013077675477 (2.657652450786758, 3.339612961264398)\n",
      "x0: 0.029837785189922805 (-0.34567738184780283, 0.3849875216132401)\n",
      "x1: -1.0126836020022 (-1.4703911474138034, -0.6372224540563698)\n",
      "x2: 1.6675476280457224 (1.1928583585549248, 2.197013883420873)\n",
      "x3: -0.04406087102014956 (-0.4367923834545272, 0.38846355643524944)\n",
      "x4: -0.2587412925295042 (-0.6050112093904666, 0.10453497286298062)\n",
      "x5: -1.3308070905781617 (-1.662953786488907, -0.7658811774182236)\n",
      "x6: 0.953306102410945 (0.6460692373990284, 1.2274016805276264)\n",
      "x7: 1.247946960232062 (0.8954760847084943, 1.6458546141307107)\n",
      "x8: 0.10637797530746744 (-0.20647670940587556, 0.4521429898547107)\n",
      "x9: -0.6548315485608427 (-1.0568321071845825, -0.389625484674027)\n"
     ]
    }
   ],
   "source": [
    "# Fit OLS model to each bootstraped df. Store the coefficients.\n",
    "bootstraped_models = [sm.OLS(df['y'], sm.add_constant(df.drop(columns='y'))).fit() for df in bootstrap(sampled_df, 1000)]\n",
    "\n",
    "# Get the coefficients from each model\n",
    "coefs = np.array([model.params for model in bootstraped_models])\n",
    "\n",
    "# Get the 95% confidence interval for each coefficient\n",
    "ci = np.percentile(coefs, [2.5, 97.5], axis=0)\n",
    "\n",
    "# Estimate p-values for each coefficient from coefs\n",
    "\n",
    "\n",
    "# Print the median coefs with confidence intervals\n",
    "for i, col in enumerate(['intercept'] + list(sampled_df.drop(columns=['y']).columns)):\n",
    "    print(f'{col}: {np.median(coefs[:, i])} ({ci[0, i]}, {ci[1, i]})')\n",
    "\n",
    "    "
   ]
  }
 ],
 "metadata": {
  "language_info": {
   "name": "python"
  }
 },
 "nbformat": 4,
 "nbformat_minor": 2
}
